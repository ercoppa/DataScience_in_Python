{
 "cells": [
  {
   "cell_type": "markdown",
   "metadata": {},
   "source": [
    "# Introduction to Google Colab\n",
    "\n",
    "## What is Google Colab?\n",
    "Google Colab is a cloud-based Jupyter notebook environment provided by Google. It allows you to write, run, and share Python code directly in your web browser without any setup or installation.\n",
    "\n",
    "## Features of Google Colab\n",
    "- **Free GPU and TPU**: Colab provides free access to GPUs and TPUs, which can significantly speed up your code execution, particularly for machine learning tasks.\n",
    "- **Cloud-based**: Your notebooks and files are stored in the cloud, allowing you to access them from anywhere.\n",
    "- **Collaborative Editing**: Multiple users can collaborate on the same notebook in real-time.\n",
    "- **Pre-installed Libraries**: Colab comes with many popular libraries pre-installed, including TensorFlow, PyTorch, and scikit-learn.\n",
    "- **Integration with Google Drive**: You can easily access and save files to your Google Drive.\n",
    "\n",
    "## Getting Started with Google Colab\n",
    "1. Open Google Colab: Go to https://colab.research.google.com/ and log in with your Google account.\n",
    "\n",
    "2. Create a new notebook: Click on \"New Notebook\" to create a new Colab notebook.\n",
    "\n",
    "3. Notebook Basics:\n",
    "   - Code Cells: Write and execute Python code in code cells. Use the Play button or press Shift+Enter to run a cell.\n",
    "   - Text Cells: Write formatted text and documentation in text cells using Markdown syntax.\n",
    "\n",
    "4. Uploading Files:\n",
    "   - To upload files from your local machine, use the file upload button in the sidebar or execute code to upload files programmatically.\n",
    "   - You can also mount your Google Drive to access files stored there.\n",
    "\n",
    "5. Running Shell Commands:\n",
    "   - Prepend a code cell with an exclamation mark (!) to run shell commands.\n",
    "   - For example, `!pip install package_name` installs a Python package.\n",
    "\n",
    "6. GPU/TPU Acceleration:\n",
    "   - Go to \"Runtime\" > \"Change runtime type\" to select a GPU or TPU runtime.\n",
    "   - Utilize GPU/TPU acceleration for computationally intensive tasks.\n",
    "\n",
    "7. Saving and Downloading Notebooks:\n",
    "   - Colab notebooks are automatically saved to your Google Drive. Alternatively, you can download a notebook as a .ipynb file.\n",
    "\n",
    "8. Sharing Notebooks:\n",
    "   - Share your notebooks with others by clicking on the \"Share\" button. You can control access permissions.\n",
    "\n",
    "9. Additional Resources:\n",
    "   - Colab Documentation: https://colab.research.google.com/notebooks/intro.ipynb\n",
    "   - Colab FAQ: https://research.google.com/colaboratory/faq.html\n",
    "\n",
    "This notebook provides a brief introduction to Google Colab. Feel free to explore the features, experiment with code, and leverage the available resources to enhance your data analysis and machine learning workflows!\n",
    "\n",
    "## Magic Commands\n",
    "In addition to regular Python code execution, Google Colab supports magic commands that provide additional functionality:\n",
    "\n",
    "- **Line Magic**: Line magic commands start with a single `%` character and are used to run specific actions in a single line. For example:\n",
    "  - `%timeit` measures the execution time of a line of code.\n",
    "  - `%ls` lists the contents of the current directory.\n",
    "\n",
    "- **Cell Magic**: Cell magic commands start with `%%` and apply to the entire code cell. For example:\n",
    "  - `%%time` measures the execution time of the entire cell.\n",
    "  - `%%bash` allows running shell commands within the cell.\n",
    "\n",
    "You can explore the available magic commands in Colab by running `%lsmagic` or `%%lsmagic` in a code cell.\n",
    "\n",
    "## Uploading Files\n",
    "Google Colab allows you to upload files from your local machine or access files from Google Drive. Here's how to upload files:\n",
    "\n",
    "- Use the file upload button in the sidebar: Click on the folder icon in the sidebar and select the files to upload from your local machine.\n",
    "- Programmatically upload files: Use the following code snippet to upload files programmatically:\n",
    "\n",
    "  ```python\n",
    "  from google.colab import files\n",
    "  uploaded_files = files.upload()\n",
    "\n",
    "To access files from your Google Drive, you can mount your Google Drive using the following code:\n",
    "\n",
    "```python\n",
    "from google.colab import drive\n",
    "drive.mount('/content/drive')\n",
    "```\n",
    "\n",
    "## Cool trick from GitHub to Google Colab\n",
    "\n",
    "There is a cool trick that allows you to directly open any of your GitHub notebooks in Google Colab. You can do this by simply replacing the `github.com` in the URL with `githubtocolab`. For example, if the URL of your GitHub notebook is:\n",
    "\n",
    "* https://github.com/[Username]/[Repository]/blob/master/[Notebook].ipynb\n",
    "\n",
    "You can open it directly in Google Colab by changing the URL to:\n",
    "\n",
    "* https://githubtocolab.com/[Username]/[Repository]/blob/master/[Notebook].ipynb"
   ]
  },
  {
   "cell_type": "code",
   "execution_count": null,
   "metadata": {},
   "outputs": [],
   "source": [
    "!ls /bin"
   ]
  },
  {
   "cell_type": "code",
   "execution_count": 5,
   "metadata": {},
   "outputs": [
    {
     "name": "stdout",
     "output_type": "stream",
     "text": [
      "Done, i*j =  998001\n",
      "CPU times: total: 93.8 ms\n",
      "Wall time: 98 ms\n"
     ]
    }
   ],
   "source": [
    "%%time \n",
    "\n",
    "for i in range(1000):\n",
    "    for j in range(1000):\n",
    "        i*j\n",
    "print(\"Done, i*j = \", i*j)"
   ]
  },
  {
   "cell_type": "code",
   "execution_count": null,
   "metadata": {},
   "outputs": [],
   "source": [
    "from google.colab import files\n",
    "uploaded_files = files.upload()"
   ]
  },
  {
   "cell_type": "markdown",
   "metadata": {},
   "source": [
    "---\n",
    "\n",
    "# What's next?\n",
    "\n",
    "Next notebook: [Introduction to Markdown](https://github.com/vrughetti/python4DS/blob/main/notebooks/markdown/markdown.ipynb)"
   ]
  }
 ],
 "metadata": {
  "kernelspec": {
   "display_name": "Python 3",
   "language": "python",
   "name": "python3"
  },
  "language_info": {
   "codemirror_mode": {
    "name": "ipython",
    "version": 3
   },
   "file_extension": ".py",
   "mimetype": "text/x-python",
   "name": "python",
   "nbconvert_exporter": "python",
   "pygments_lexer": "ipython3",
   "version": "3.8.8"
  },
  "orig_nbformat": 4
 },
 "nbformat": 4,
 "nbformat_minor": 2
}
