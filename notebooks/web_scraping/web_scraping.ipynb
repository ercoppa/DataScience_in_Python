{
 "cells": [
  {
   "cell_type": "markdown",
   "metadata": {},
   "source": [
    "# Web Scraping for Data Science with Python"
   ]
  },
  {
   "cell_type": "code",
   "execution_count": null,
   "metadata": {},
   "outputs": [],
   "source": [
    "%pip install -r https://raw.githubusercontent.com/vrughetti/python4DS/main/requirements.txt"
   ]
  },
  {
   "cell_type": "code",
   "execution_count": 41,
   "metadata": {},
   "outputs": [],
   "source": [
    "import re\n",
    "import requests\n",
    "from bs4 import BeautifulSoup\n",
    "import pandas as pd"
   ]
  },
  {
   "cell_type": "markdown",
   "metadata": {},
   "source": [
    "## Table of Contents\n",
    "1. Introduction to Web Scraping\n",
    "2. The Beautiful Soup (bs4) Library\n",
    "3. The Requests Library\n",
    "4. Scraping Data from Wikipedia\n",
    "5. Summary"
   ]
  },
  {
   "cell_type": "markdown",
   "metadata": {},
   "source": [
    "## 1. Introduction to Web Scraping\n",
    "\n",
    "Web scraping is the process of extracting data from websites using code. It is a powerful technique for collecting data from the web, which can be used in various Data Science applications. In this lesson, we will learn how to perform web scraping using Python."
   ]
  },
  {
   "cell_type": "markdown",
   "metadata": {},
   "source": [
    "## 2. The Beautiful Soup (bs4) Library\n",
    "\n",
    "Beautiful Soup (bs4) is a Python library for parsing HTML and XML documents. It provides an easy-to-use interface to extract data from web pages. To use Beautiful Soup, we need to install it by running the following command:\n",
    "\n",
    "```python\n",
    "pip install beautifulsoup4\n",
    "```\n",
    "\n",
    "Once installed, we can import the library in our code:\n",
    "\n",
    "```python\n",
    "from bs4 import BeautifulSoup\n",
    "```"
   ]
  },
  {
   "cell_type": "markdown",
   "metadata": {},
   "source": [
    "## 3. The Requests Library\n",
    "\n",
    "The Requests library is a Python library for making HTTP requests. It allows us to send GET and POST requests to web pages and retrieve their content. To install the Requests library, run the following command:\n",
    "\n",
    "```python\n",
    "pip install requests\n",
    "```\n",
    "\n",
    "We can import the library in our code as follows:\n",
    "\n",
    "```python\n",
    "import requests\n",
    "```"
   ]
  },
  {
   "cell_type": "markdown",
   "metadata": {},
   "source": [
    "## 4. Scraping Data from Wikipedia\n",
    "\n",
    "In this example, we will scrape data from a Wikipedia page. Let's scrape the table of the highest-grossing films of all time. Follow the steps below:"
   ]
  },
  {
   "cell_type": "markdown",
   "metadata": {},
   "source": [
    "### Step 1: Send a GET request to the webpage"
   ]
  },
  {
   "cell_type": "code",
   "execution_count": 7,
   "metadata": {},
   "outputs": [],
   "source": [
    "url = 'https://en.wikipedia.org/wiki/List_of_highest-grossing_films'\n",
    "response = requests.get(url)"
   ]
  },
  {
   "cell_type": "markdown",
   "metadata": {},
   "source": [
    "We start by sending a GET request to the Wikipedia webpage that lists the highest-grossing films."
   ]
  },
  {
   "cell_type": "markdown",
   "metadata": {},
   "source": [
    "### Step 2: Parse the HTML content using Beautiful Soup"
   ]
  },
  {
   "cell_type": "code",
   "execution_count": 8,
   "metadata": {},
   "outputs": [],
   "source": [
    "soup = BeautifulSoup(response.content, 'html.parser')"
   ]
  },
  {
   "cell_type": "markdown",
   "metadata": {},
   "source": [
    "Using Beautiful Soup, we parse the HTML content of the webpage and create a BeautifulSoup object called `soup`."
   ]
  },
  {
   "cell_type": "markdown",
   "metadata": {},
   "source": [
    "### Step 3: Find the table on the webpage"
   ]
  },
  {
   "cell_type": "code",
   "execution_count": 12,
   "metadata": {},
   "outputs": [],
   "source": [
    "table = soup.find('table', class_='wikitable')"
   ]
  },
  {
   "cell_type": "markdown",
   "metadata": {},
   "source": [
    "We use the `find` method to locate the table element on the webpage. We specify the class attribute of the table element to identify it uniquely."
   ]
  },
  {
   "cell_type": "markdown",
   "metadata": {},
   "source": [
    "### Step 4: Extract information from the table"
   ]
  },
  {
   "cell_type": "code",
   "execution_count": 109,
   "metadata": {},
   "outputs": [],
   "source": [
    "rows = table.find_all('tr')\n",
    "data = []\n",
    "\n",
    "for row in rows[1:]:\n",
    "    columns = row.find_all('td')\n",
    "    names = row.find('th')\n",
    "    movie = names.text.strip()\n",
    "    year = int(columns[3].text.strip())\n",
    "    chars_to_remove = ['F8', 'F', 'HP1', 'T'] # fix for Wikipedia extra characters\n",
    "    try:\n",
    "        gross = columns[2].text.strip()\n",
    "        for char in chars_to_remove:\n",
    "            gross = gross.replace(char, '')\n",
    "        gross = gross.replace('$', '')\n",
    "        gross = int(gross)\n",
    "    except:\n",
    "        gross = columns[2].text.strip()\n",
    "        for char in chars_to_remove:\n",
    "            gross = gross.replace(char, '')\n",
    "        gross = re.sub('[^0-9]', '', gross)\n",
    "        gross = int(gross)\n",
    "    data.append(\n",
    "        {\n",
    "            'Movie': movie,\n",
    "            'Gross': gross, \n",
    "            'Year': year, \n",
    "            'Source': 'Wikipedia',\n",
    "            'value': 'USD',\n",
    "        })\n"
   ]
  },
  {
   "cell_type": "markdown",
   "metadata": {},
   "source": [
    "We use the `find_all` method to find all the table rows (`tr` elements). We then loop through the rows and extract the movie title and gross revenue from the respective table cells (td elements). We store the data as dictionaries in a list."
   ]
  },
  {
   "cell_type": "markdown",
   "metadata": {},
   "source": [
    "### Step 5: Store the data in a DataFrame"
   ]
  },
  {
   "cell_type": "code",
   "execution_count": 110,
   "metadata": {},
   "outputs": [
    {
     "name": "stdout",
     "output_type": "stream",
     "text": [
      "<class 'pandas.core.frame.DataFrame'>\n",
      "RangeIndex: 50 entries, 0 to 49\n",
      "Data columns (total 5 columns):\n",
      " #   Column  Non-Null Count  Dtype \n",
      "---  ------  --------------  ----- \n",
      " 0   Movie   50 non-null     object\n",
      " 1   Gross   50 non-null     int64 \n",
      " 2   Year    50 non-null     int64 \n",
      " 3   Source  50 non-null     object\n",
      " 4   value   50 non-null     object\n",
      "dtypes: int64(2), object(3)\n",
      "memory usage: 2.1+ KB\n"
     ]
    }
   ],
   "source": [
    "df = pd.DataFrame(data)\n",
    "df.info()"
   ]
  },
  {
   "cell_type": "code",
   "execution_count": 111,
   "metadata": {},
   "outputs": [
    {
     "data": {
      "text/html": [
       "<div>\n",
       "<style scoped>\n",
       "    .dataframe tbody tr th:only-of-type {\n",
       "        vertical-align: middle;\n",
       "    }\n",
       "\n",
       "    .dataframe tbody tr th {\n",
       "        vertical-align: top;\n",
       "    }\n",
       "\n",
       "    .dataframe thead th {\n",
       "        text-align: right;\n",
       "    }\n",
       "</style>\n",
       "<table border=\"1\" class=\"dataframe\">\n",
       "  <thead>\n",
       "    <tr style=\"text-align: right;\">\n",
       "      <th></th>\n",
       "      <th>Movie</th>\n",
       "      <th>Gross</th>\n",
       "      <th>Year</th>\n",
       "      <th>Source</th>\n",
       "      <th>value</th>\n",
       "    </tr>\n",
       "  </thead>\n",
       "  <tbody>\n",
       "    <tr>\n",
       "      <th>0</th>\n",
       "      <td>Avatar</td>\n",
       "      <td>2923706026</td>\n",
       "      <td>2009</td>\n",
       "      <td>Wikipedia</td>\n",
       "      <td>USD</td>\n",
       "    </tr>\n",
       "    <tr>\n",
       "      <th>1</th>\n",
       "      <td>Avengers: Endgame</td>\n",
       "      <td>2797501328</td>\n",
       "      <td>2019</td>\n",
       "      <td>Wikipedia</td>\n",
       "      <td>USD</td>\n",
       "    </tr>\n",
       "    <tr>\n",
       "      <th>2</th>\n",
       "      <td>Avatar: The Way of Water</td>\n",
       "      <td>2320250281</td>\n",
       "      <td>2022</td>\n",
       "      <td>Wikipedia</td>\n",
       "      <td>USD</td>\n",
       "    </tr>\n",
       "    <tr>\n",
       "      <th>3</th>\n",
       "      <td>Titanic</td>\n",
       "      <td>2257844554</td>\n",
       "      <td>1997</td>\n",
       "      <td>Wikipedia</td>\n",
       "      <td>USD</td>\n",
       "    </tr>\n",
       "    <tr>\n",
       "      <th>4</th>\n",
       "      <td>Star Wars: The Force Awakens</td>\n",
       "      <td>2068223624</td>\n",
       "      <td>2015</td>\n",
       "      <td>Wikipedia</td>\n",
       "      <td>USD</td>\n",
       "    </tr>\n",
       "  </tbody>\n",
       "</table>\n",
       "</div>"
      ],
      "text/plain": [
       "                          Movie       Gross  Year     Source value\n",
       "0                        Avatar  2923706026  2009  Wikipedia   USD\n",
       "1             Avengers: Endgame  2797501328  2019  Wikipedia   USD\n",
       "2      Avatar: The Way of Water  2320250281  2022  Wikipedia   USD\n",
       "3                       Titanic  2257844554  1997  Wikipedia   USD\n",
       "4  Star Wars: The Force Awakens  2068223624  2015  Wikipedia   USD"
      ]
     },
     "execution_count": 111,
     "metadata": {},
     "output_type": "execute_result"
    }
   ],
   "source": [
    "df.head()"
   ]
  },
  {
   "cell_type": "markdown",
   "metadata": {},
   "source": [
    "We create a DataFrame using the Pandas library to store the scraped data. Each movie's title and gross revenue are stored in separate columns."
   ]
  },
  {
   "cell_type": "code",
   "execution_count": 112,
   "metadata": {},
   "outputs": [
    {
     "data": {
      "text/html": [
       "<div>\n",
       "<style scoped>\n",
       "    .dataframe tbody tr th:only-of-type {\n",
       "        vertical-align: middle;\n",
       "    }\n",
       "\n",
       "    .dataframe tbody tr th {\n",
       "        vertical-align: top;\n",
       "    }\n",
       "\n",
       "    .dataframe thead th {\n",
       "        text-align: right;\n",
       "    }\n",
       "</style>\n",
       "<table border=\"1\" class=\"dataframe\">\n",
       "  <thead>\n",
       "    <tr style=\"text-align: right;\">\n",
       "      <th></th>\n",
       "      <th>Movie</th>\n",
       "      <th>Gross</th>\n",
       "      <th>Year</th>\n",
       "      <th>Source</th>\n",
       "      <th>value</th>\n",
       "    </tr>\n",
       "  </thead>\n",
       "  <tbody>\n",
       "    <tr>\n",
       "      <th>0</th>\n",
       "      <td>Avatar</td>\n",
       "      <td>2923706026</td>\n",
       "      <td>2009</td>\n",
       "      <td>Wikipedia</td>\n",
       "      <td>USD</td>\n",
       "    </tr>\n",
       "    <tr>\n",
       "      <th>1</th>\n",
       "      <td>Avengers: Endgame</td>\n",
       "      <td>2797501328</td>\n",
       "      <td>2019</td>\n",
       "      <td>Wikipedia</td>\n",
       "      <td>USD</td>\n",
       "    </tr>\n",
       "    <tr>\n",
       "      <th>2</th>\n",
       "      <td>Avatar: The Way of Water</td>\n",
       "      <td>2320250281</td>\n",
       "      <td>2022</td>\n",
       "      <td>Wikipedia</td>\n",
       "      <td>USD</td>\n",
       "    </tr>\n",
       "    <tr>\n",
       "      <th>3</th>\n",
       "      <td>Titanic</td>\n",
       "      <td>2257844554</td>\n",
       "      <td>1997</td>\n",
       "      <td>Wikipedia</td>\n",
       "      <td>USD</td>\n",
       "    </tr>\n",
       "    <tr>\n",
       "      <th>4</th>\n",
       "      <td>Star Wars: The Force Awakens</td>\n",
       "      <td>2068223624</td>\n",
       "      <td>2015</td>\n",
       "      <td>Wikipedia</td>\n",
       "      <td>USD</td>\n",
       "    </tr>\n",
       "    <tr>\n",
       "      <th>5</th>\n",
       "      <td>Avengers: Infinity War</td>\n",
       "      <td>2048359754</td>\n",
       "      <td>2018</td>\n",
       "      <td>Wikipedia</td>\n",
       "      <td>USD</td>\n",
       "    </tr>\n",
       "    <tr>\n",
       "      <th>6</th>\n",
       "      <td>Spider-Man: No Way Home</td>\n",
       "      <td>1921847111</td>\n",
       "      <td>2021</td>\n",
       "      <td>Wikipedia</td>\n",
       "      <td>USD</td>\n",
       "    </tr>\n",
       "    <tr>\n",
       "      <th>7</th>\n",
       "      <td>Jurassic World</td>\n",
       "      <td>1671537444</td>\n",
       "      <td>2015</td>\n",
       "      <td>Wikipedia</td>\n",
       "      <td>USD</td>\n",
       "    </tr>\n",
       "    <tr>\n",
       "      <th>8</th>\n",
       "      <td>The Lion King</td>\n",
       "      <td>1656943394</td>\n",
       "      <td>2019</td>\n",
       "      <td>Wikipedia</td>\n",
       "      <td>USD</td>\n",
       "    </tr>\n",
       "    <tr>\n",
       "      <th>9</th>\n",
       "      <td>The Avengers</td>\n",
       "      <td>1518815515</td>\n",
       "      <td>2012</td>\n",
       "      <td>Wikipedia</td>\n",
       "      <td>USD</td>\n",
       "    </tr>\n",
       "  </tbody>\n",
       "</table>\n",
       "</div>"
      ],
      "text/plain": [
       "                          Movie       Gross  Year     Source value\n",
       "0                        Avatar  2923706026  2009  Wikipedia   USD\n",
       "1             Avengers: Endgame  2797501328  2019  Wikipedia   USD\n",
       "2      Avatar: The Way of Water  2320250281  2022  Wikipedia   USD\n",
       "3                       Titanic  2257844554  1997  Wikipedia   USD\n",
       "4  Star Wars: The Force Awakens  2068223624  2015  Wikipedia   USD\n",
       "5        Avengers: Infinity War  2048359754  2018  Wikipedia   USD\n",
       "6       Spider-Man: No Way Home  1921847111  2021  Wikipedia   USD\n",
       "7                Jurassic World  1671537444  2015  Wikipedia   USD\n",
       "8                 The Lion King  1656943394  2019  Wikipedia   USD\n",
       "9                  The Avengers  1518815515  2012  Wikipedia   USD"
      ]
     },
     "execution_count": 112,
     "metadata": {},
     "output_type": "execute_result"
    }
   ],
   "source": [
    "df.sort_values(by='Gross', ascending=False).head(10)"
   ]
  },
  {
   "cell_type": "markdown",
   "metadata": {},
   "source": [
    "As we can see, the film `Avatar (2009)` is the highest-grossing film of all time, with a gross revenue of `$2,923,706,026`."
   ]
  },
  {
   "cell_type": "code",
   "execution_count": 113,
   "metadata": {},
   "outputs": [
    {
     "data": {
      "text/plain": [
       "<Axes: title={'center': 'Top 10 Highest Grossing Movies'}, ylabel='Gross (USD)'>"
      ]
     },
     "execution_count": 113,
     "metadata": {},
     "output_type": "execute_result"
    },
    {
     "data": {
      "image/png": "[encoded data removed]",
      "text/plain": [
       "<Figure size 1000x600 with 1 Axes>"
      ]
     },
     "metadata": {},
     "output_type": "display_data"
    }
   ],
   "source": [
    "df.sort_values(by='Gross', ascending=False).head(10).plot.bar(\n",
    "    x='Movie', \n",
    "    y='Gross', \n",
    "    rot=90,\n",
    "    title='Top 10 Highest Grossing Movies',\n",
    "    figsize=(10, 6),\n",
    "    fontsize=12,\n",
    "    alpha=0.7,\n",
    "    legend=False,\n",
    "    ylabel='Gross (USD)',\n",
    "    xlabel='',\n",
    ")"
   ]
  },
  {
   "cell_type": "code",
   "execution_count": 119,
   "metadata": {},
   "outputs": [
    {
     "data": {
      "text/plain": [
       "<Axes: title={'center': 'Gross by Year'}, xlabel='Year', ylabel='Gross (USD)'>"
      ]
     },
     "execution_count": 119,
     "metadata": {},
     "output_type": "execute_result"
    },
    {
     "data": {
      "image/png": "[encoded data removed]",
      "text/plain": [
       "<Figure size 1500x500 with 1 Axes>"
      ]
     },
     "metadata": {},
     "output_type": "display_data"
    }
   ],
   "source": [
    "df.groupby('Year').sum().plot(\n",
    "    kind='line', \n",
    "    y='Gross', \n",
    "    figsize=(15, 5),\n",
    "    rot=90,\n",
    "    title='Gross by Year',\n",
    "    ylabel='Gross (USD)',\n",
    "    legend=False,\n",
    "    fontsize=12,\n",
    "    color='red',\n",
    "    linestyle='--',\n",
    "    marker='o',\n",
    "    markerfacecolor='blue',\n",
    "    markersize=10, \n",
    "    markeredgewidth=2,\n",
    "    markeredgecolor='orange',\n",
    "    xticks=range(df['Year'].min(), df['Year'].max(), 1),\n",
    ")"
   ]
  },
  {
   "cell_type": "markdown",
   "metadata": {},
   "source": [
    "Also `2019` is the year with the highest-grossing films of our dataset:"
   ]
  },
  {
   "cell_type": "code",
   "execution_count": 118,
   "metadata": {},
   "outputs": [
    {
     "data": {
      "text/html": [
       "<div>\n",
       "<style scoped>\n",
       "    .dataframe tbody tr th:only-of-type {\n",
       "        vertical-align: middle;\n",
       "    }\n",
       "\n",
       "    .dataframe tbody tr th {\n",
       "        vertical-align: top;\n",
       "    }\n",
       "\n",
       "    .dataframe thead th {\n",
       "        text-align: right;\n",
       "    }\n",
       "</style>\n",
       "<table border=\"1\" class=\"dataframe\">\n",
       "  <thead>\n",
       "    <tr style=\"text-align: right;\">\n",
       "      <th></th>\n",
       "      <th>Movie</th>\n",
       "      <th>Gross</th>\n",
       "      <th>Year</th>\n",
       "      <th>Source</th>\n",
       "      <th>value</th>\n",
       "    </tr>\n",
       "  </thead>\n",
       "  <tbody>\n",
       "    <tr>\n",
       "      <th>1</th>\n",
       "      <td>Avengers: Endgame</td>\n",
       "      <td>2797501328</td>\n",
       "      <td>2019</td>\n",
       "      <td>Wikipedia</td>\n",
       "      <td>USD</td>\n",
       "    </tr>\n",
       "    <tr>\n",
       "      <th>8</th>\n",
       "      <td>The Lion King</td>\n",
       "      <td>1656943394</td>\n",
       "      <td>2019</td>\n",
       "      <td>Wikipedia</td>\n",
       "      <td>USD</td>\n",
       "    </tr>\n",
       "  </tbody>\n",
       "</table>\n",
       "</div>"
      ],
      "text/plain": [
       "               Movie       Gross  Year     Source value\n",
       "1  Avengers: Endgame  2797501328  2019  Wikipedia   USD\n",
       "8      The Lion King  1656943394  2019  Wikipedia   USD"
      ]
     },
     "execution_count": 118,
     "metadata": {},
     "output_type": "execute_result"
    }
   ],
   "source": [
    "# Films that are from 2019 and are in the top 10\n",
    "df.sort_values(by='Gross', ascending=False).iloc[:10].query('Year == 2019')"
   ]
  },
  {
   "cell_type": "markdown",
   "metadata": {},
   "source": [
    "Since `Avengers: Endgame` was already the second highest-grossing film, it is not surprising that `2019` is the year with the highest-grossing films of our dataset."
   ]
  },
  {
   "cell_type": "markdown",
   "metadata": {},
   "source": [
    "Here there is the entire list of films of `2019`:"
   ]
  },
  {
   "cell_type": "code",
   "execution_count": 142,
   "metadata": {},
   "outputs": [
    {
     "data": {
      "text/html": [
       "<div>\n",
       "<style scoped>\n",
       "    .dataframe tbody tr th:only-of-type {\n",
       "        vertical-align: middle;\n",
       "    }\n",
       "\n",
       "    .dataframe tbody tr th {\n",
       "        vertical-align: top;\n",
       "    }\n",
       "\n",
       "    .dataframe thead th {\n",
       "        text-align: right;\n",
       "    }\n",
       "</style>\n",
       "<table border=\"1\" class=\"dataframe\">\n",
       "  <thead>\n",
       "    <tr style=\"text-align: right;\">\n",
       "      <th></th>\n",
       "      <th>Movie</th>\n",
       "      <th>Gross</th>\n",
       "      <th>Year</th>\n",
       "      <th>Source</th>\n",
       "      <th>value</th>\n",
       "    </tr>\n",
       "  </thead>\n",
       "  <tbody>\n",
       "    <tr>\n",
       "      <th>1</th>\n",
       "      <td>Avengers: Endgame</td>\n",
       "      <td>2797501328</td>\n",
       "      <td>2019</td>\n",
       "      <td>Wikipedia</td>\n",
       "      <td>USD</td>\n",
       "    </tr>\n",
       "    <tr>\n",
       "      <th>8</th>\n",
       "      <td>The Lion King</td>\n",
       "      <td>1656943394</td>\n",
       "      <td>2019</td>\n",
       "      <td>Wikipedia</td>\n",
       "      <td>USD</td>\n",
       "    </tr>\n",
       "    <tr>\n",
       "      <th>12</th>\n",
       "      <td>Frozen II</td>\n",
       "      <td>1450026933</td>\n",
       "      <td>2019</td>\n",
       "      <td>Wikipedia</td>\n",
       "      <td>USD</td>\n",
       "    </tr>\n",
       "    <tr>\n",
       "      <th>28</th>\n",
       "      <td>Spider-Man: Far From Home</td>\n",
       "      <td>1131927996</td>\n",
       "      <td>2019</td>\n",
       "      <td>Wikipedia</td>\n",
       "      <td>USD</td>\n",
       "    </tr>\n",
       "    <tr>\n",
       "      <th>29</th>\n",
       "      <td>Captain Marvel</td>\n",
       "      <td>1128274794</td>\n",
       "      <td>2019</td>\n",
       "      <td>Wikipedia</td>\n",
       "      <td>USD</td>\n",
       "    </tr>\n",
       "    <tr>\n",
       "      <th>34</th>\n",
       "      <td>Joker</td>\n",
       "      <td>1074458282</td>\n",
       "      <td>2019</td>\n",
       "      <td>Wikipedia</td>\n",
       "      <td>USD</td>\n",
       "    </tr>\n",
       "    <tr>\n",
       "      <th>35</th>\n",
       "      <td>Star Wars: The Rise of Skywalker</td>\n",
       "      <td>1074144248</td>\n",
       "      <td>2019</td>\n",
       "      <td>Wikipedia</td>\n",
       "      <td>USD</td>\n",
       "    </tr>\n",
       "    <tr>\n",
       "      <th>36</th>\n",
       "      <td>Toy Story 4</td>\n",
       "      <td>1073394593</td>\n",
       "      <td>2019</td>\n",
       "      <td>Wikipedia</td>\n",
       "      <td>USD</td>\n",
       "    </tr>\n",
       "    <tr>\n",
       "      <th>40</th>\n",
       "      <td>Aladdin</td>\n",
       "      <td>1050693953</td>\n",
       "      <td>2019</td>\n",
       "      <td>Wikipedia</td>\n",
       "      <td>USD</td>\n",
       "    </tr>\n",
       "  </tbody>\n",
       "</table>\n",
       "</div>"
      ],
      "text/plain": [
       "                               Movie       Gross  Year     Source value\n",
       "1                  Avengers: Endgame  2797501328  2019  Wikipedia   USD\n",
       "8                      The Lion King  1656943394  2019  Wikipedia   USD\n",
       "12                         Frozen II  1450026933  2019  Wikipedia   USD\n",
       "28         Spider-Man: Far From Home  1131927996  2019  Wikipedia   USD\n",
       "29                    Captain Marvel  1128274794  2019  Wikipedia   USD\n",
       "34                             Joker  1074458282  2019  Wikipedia   USD\n",
       "35  Star Wars: The Rise of Skywalker  1074144248  2019  Wikipedia   USD\n",
       "36                       Toy Story 4  1073394593  2019  Wikipedia   USD\n",
       "40                           Aladdin  1050693953  2019  Wikipedia   USD"
      ]
     },
     "execution_count": 142,
     "metadata": {},
     "output_type": "execute_result"
    }
   ],
   "source": [
    "df[df['Year'] == 2019]"
   ]
  },
  {
   "cell_type": "markdown",
   "metadata": {},
   "source": [
    "## 5. Summary\n",
    "\n",
    "In this lesson, we learned how to perform web scraping using Python. We explored the Beautiful Soup (bs4) library for parsing HTML, the Requests library for making HTTP requests, and the process of scraping data from a Wikipedia page. Web scraping is a valuable skill for Data Science, enabling us to collect data from websites and utilize it for various analysis and modeling tasks.\n",
    "\n",
    "Feel free to experiment with different websites and data extraction techniques to further enhance your web scraping skills. Remember to respect website terms of service and avoid scraping websites that prohibit it. Happy scraping!"
   ]
  },
  {
   "cell_type": "markdown",
   "metadata": {},
   "source": [
    "---\n",
    "\n",
    "# What's Next?\n",
    "\n",
    "If you have reached this point, congratulations! You have completed the course. \n",
    "\n",
    "We hope you enjoyed it and learned a lot. Now you can apply your new skills to real-world problems and build amazing projects.\n",
    "\n",
    "Congrats and well done! 👏👏👏"
   ]
  }
 ],
 "metadata": {
  "kernelspec": {
   "display_name": "Python 3",
   "language": "python",
   "name": "python3"
  },
  "language_info": {
   "codemirror_mode": {
    "name": "ipython",
    "version": 3
   },
   "file_extension": ".py",
   "mimetype": "text/x-python",
   "name": "python",
   "nbconvert_exporter": "python",
   "pygments_lexer": "ipython3",
   "version": "3.8.8"
  },
  "orig_nbformat": 4
 },
 "nbformat": 4,
 "nbformat_minor": 2
}
