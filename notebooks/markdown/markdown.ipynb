{
 "cells": [
  {
   "cell_type": "markdown",
   "metadata": {},
   "source": [
    "# Introduction to Markdown\n",
    "\n",
    "## What is Markdown?\n",
    "Markdown is a lightweight markup language that allows you to format text using simple and intuitive syntax. It is widely used for creating structured documents, including README files, documentation, and Jupyter Notebook markdown cells."
   ]
  },
  {
   "cell_type": "markdown",
   "metadata": {},
   "source": [
    "## Markdown Syntax Examples\n"
   ]
  },
  {
   "cell_type": "markdown",
   "metadata": {},
   "source": [
    "### Headers\n",
    "Headers are created using hash (#) symbols. The number of hash symbols determines the header level.\n",
    "\n",
    "# Heading 1\n",
    "## Heading 2\n",
    "### Heading 3\n",
    "\n"
   ]
  },
  {
   "cell_type": "markdown",
   "metadata": {},
   "source": [
    "### Emphasis\n",
    "You can emphasize text using asterisks (*) or underscores (_).\n",
    "\n",
    "This is *italicized* text.\n",
    "This is _italicized_ text.\n",
    "\n",
    "This is **bold** text.\n",
    "This is __bold__ text.\n",
    "\n"
   ]
  },
  {
   "cell_type": "markdown",
   "metadata": {},
   "source": [
    "### Lists\n",
    "You can create ordered and unordered lists.\n",
    "\n",
    "Unordered list:\n",
    "- Item 1\n",
    "- Item 2\n",
    "- Item 3\n",
    "\n",
    "Ordered list:\n",
    "1. First item\n",
    "2. Second item\n",
    "3. Third item\n",
    "\n"
   ]
  },
  {
   "cell_type": "markdown",
   "metadata": {},
   "source": [
    "### Links\n",
    "You can create links using square brackets for the link text and parentheses for the URL.\n",
    "\n",
    "[Google](https://www.google.com)\n",
    "[OpenAI](https://openai.com)\n",
    "\n"
   ]
  },
  {
   "cell_type": "markdown",
   "metadata": {},
   "source": [
    "### Images\n",
    "You can embed images using an exclamation mark followed by square brackets for the alt text and parentheses for the image URL.\n",
    "\n",
    "![Python Logo](https://www.python.org/static/community_logos/python-logo-master-v3-TM.png)\n",
    "\n"
   ]
  },
  {
   "cell_type": "markdown",
   "metadata": {},
   "source": [
    "### Code\n",
    "You can include code snippets using backticks (`) or triple backticks for code blocks.\n",
    "\n",
    "Inline code: `print('Hello, World!')`\n",
    "\n",
    "Code block:\n",
    "```python\n",
    "def greet(name):\n",
    "    print(f\"Hello, {name}!\")\n",
    "\n",
    "greet('Alice')"
   ]
  },
  {
   "cell_type": "markdown",
   "metadata": {},
   "source": [
    "### Blockquotes\n",
    "You can create blockquotes using the greater than (>) symbol.\n",
    "\n",
    "> \"The only way to do great work is to love what you do.\" - Steve Jobs\n",
    "\n",
    "### Task Lists\n",
    "You can create task lists using hyphens (-) or asterisks (*) within square brackets. Use [x] for completed tasks and [ ] for incomplete tasks.\n",
    "\n",
    "- [x] Write the introduction\n",
    "- [x] Include syntax examples\n",
    "- [ ] Add more examples"
   ]
  },
  {
   "cell_type": "markdown",
   "metadata": {},
   "source": [
    "### Footnotes\n",
    "You can add footnotes to your text using the caret symbol (^) followed by square brackets with the footnote text.\n",
    "\n",
    "This is a sentence with a footnote[^1].\n",
    "\n",
    "[^1]: This is the footnote content."
   ]
  },
  {
   "cell_type": "markdown",
   "metadata": {},
   "source": [
    "### Superscript and Subscript\n",
    "You can create superscript and subscript text using the caret symbol (^) and tilde (~) respectively.\n",
    "\n",
    "E = mc^2\n",
    "H~2~O\n"
   ]
  },
  {
   "cell_type": "markdown",
   "metadata": {},
   "source": [
    "### Line Breaks\n",
    "To insert a line break without starting a new paragraph, end a line with two or more spaces.\n",
    "\n",
    "This is the first line.  \n",
    "This is the second line.\n"
   ]
  },
  {
   "cell_type": "markdown",
   "metadata": {},
   "source": [
    "### Escape Characters\n",
    "To display special characters literally, use the backslash (\\) as an escape character.\n",
    "\n",
    "\\*This\\* will be displayed as asterisks.\n"
   ]
  },
  {
   "cell_type": "markdown",
   "metadata": {},
   "source": [
    "### Tables\n",
    "You can create tables with aligned columns using vertical bars (|) and hyphens (-) for the header separator.\n",
    "\n",
    "| Name   | Age | Country   |\n",
    "|--------|-----|-----------|\n",
    "| Alice  | 25  | USA       |\n",
    "| Bob    | 30  | Canada    |\n",
    "| Claire | 28  | Australia |"
   ]
  },
  {
   "cell_type": "markdown",
   "metadata": {},
   "source": [
    "### Math Equations with LaTeX\n",
    "You can include math equations using LaTeX syntax within dollar signs ($).\n",
    "\n",
    "Inline equation: $e^{i\\pi} + 1 = 0$\n",
    "\n",
    "Equation on its own line:\n",
    "\n",
    "$$\n",
    "\\int_0^\\infty x^2 dx\n",
    "$$"
   ]
  },
  {
   "cell_type": "markdown",
   "metadata": {},
   "source": [
    "### Strikethrough\n",
    "You can include strikethrough text using two tilde (~) symbols.\n",
    "\n",
    "~~This text is strikethrough.~~\n"
   ]
  },
  {
   "cell_type": "markdown",
   "metadata": {},
   "source": [
    "### Ordered and Unordered Task Lists\n",
    "You can create nested ordered and unordered task lists.\n",
    "\n",
    "- [x] Task 1\n",
    "- [x] Task 2\n",
    "  - [x] Subtask 2.1\n",
    "  - [ ] Subtask 2.2\n",
    "- [ ] Task 3\n",
    "\n",
    "1. Task A\n",
    "2. Task B\n",
    "   - Subtask B.1\n",
    "   - Subtask B.2\n",
    "3. Task C\n"
   ]
  },
  {
   "cell_type": "markdown",
   "metadata": {},
   "source": [
    "### Horizontal Rules\n",
    "You can insert horizontal rules using three or more hyphens, asterisks, or underscores.\n",
    "\n",
    "---"
   ]
  },
  {
   "cell_type": "markdown",
   "metadata": {},
   "source": [
    "Next notebook: [Ultraquick intro to Pandas Dataframe](https://github.com/vrughetti/python4DS/blob/main/notebooks/ultraquick_pandas/ultraquick_pandas.ipynb)"
   ]
  }
 ],
 "metadata": {
  "language_info": {
   "name": "python"
  },
  "orig_nbformat": 4
 },
 "nbformat": 4,
 "nbformat_minor": 2
}
