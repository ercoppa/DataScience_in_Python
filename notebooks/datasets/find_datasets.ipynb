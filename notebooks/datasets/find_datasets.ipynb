{
 "cells": [
  {
   "cell_type": "markdown",
   "metadata": {},
   "source": [
    "# Where can I find datasets?\n",
    "\n",
    "* Kaggle datasets: https://www.kaggle.com/datasets\n",
    "* UCI Machine Learning Repository: https://archive.ics.uci.edu/datasets\n",
    "* Google Dataset Search: https://datasetsearch.research.google.com/\n",
    "* Awesome Public Datasets:\n",
    "    * Gov Data: https://govdata.de\n",
    "    * Open Data: https://data.gov.uk"
   ]
  }
 ],
 "metadata": {
  "language_info": {
   "name": "python"
  },
  "orig_nbformat": 4
 },
 "nbformat": 4,
 "nbformat_minor": 2
}
